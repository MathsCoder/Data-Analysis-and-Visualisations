{
 "cells": [
  {
   "cell_type": "code",
   "execution_count": 47,
   "metadata": {
    "collapsed": false
   },
   "outputs": [
    {
     "name": "stdout",
     "output_type": "stream",
     "text": [
      "[['', 'year', 'month', 'intent', 'police', 'sex', 'age', 'race', 'hispanic', 'place', 'education'], ['1', '2012', '01', 'Suicide', '0', 'M', '34', 'Asian/Pacific Islander', '100', 'Home', '4'], ['2', '2012', '01', 'Suicide', '0', 'F', '21', 'White', '100', 'Street', '3'], ['3', '2012', '01', 'Suicide', '0', 'M', '60', 'White', '100', 'Other specified', '4'], ['4', '2012', '02', 'Suicide', '0', 'M', '64', 'White', '100', 'Home', '4']]\n"
     ]
    },
    {
     "data": {
      "text/plain": [
       "[['',\n",
       "  'year',\n",
       "  'month',\n",
       "  'intent',\n",
       "  'police',\n",
       "  'sex',\n",
       "  'age',\n",
       "  'race',\n",
       "  'hispanic',\n",
       "  'place',\n",
       "  'education'],\n",
       " ['1',\n",
       "  '2012',\n",
       "  '01',\n",
       "  'Suicide',\n",
       "  '0',\n",
       "  'M',\n",
       "  '34',\n",
       "  'Asian/Pacific Islander',\n",
       "  '100',\n",
       "  'Home',\n",
       "  '4'],\n",
       " ['2', '2012', '01', 'Suicide', '0', 'F', '21', 'White', '100', 'Street', '3'],\n",
       " ['3',\n",
       "  '2012',\n",
       "  '01',\n",
       "  'Suicide',\n",
       "  '0',\n",
       "  'M',\n",
       "  '60',\n",
       "  'White',\n",
       "  '100',\n",
       "  'Other specified',\n",
       "  '4'],\n",
       " ['4', '2012', '02', 'Suicide', '0', 'M', '64', 'White', '100', 'Home', '4']]"
      ]
     },
     "execution_count": 47,
     "metadata": {},
     "output_type": "execute_result"
    }
   ],
   "source": [
    "import csv\n",
    "import datetime\n",
    "\n",
    "f = open(\"guns.csv\", \"r\")\n",
    "data = list(csv.reader(f))\n",
    "\n",
    "print(data[:5])\n",
    "data[:5]\n"
   ]
  },
  {
   "cell_type": "code",
   "execution_count": 48,
   "metadata": {
    "collapsed": false
   },
   "outputs": [
    {
     "name": "stdout",
     "output_type": "stream",
     "text": [
      "['', 'year', 'month', 'intent', 'police', 'sex', 'age', 'race', 'hispanic', 'place', 'education']\n",
      "[['1', '2012', '01', 'Suicide', '0', 'M', '34', 'Asian/Pacific Islander', '100', 'Home', '4'], ['2', '2012', '01', 'Suicide', '0', 'F', '21', 'White', '100', 'Street', '3'], ['3', '2012', '01', 'Suicide', '0', 'M', '60', 'White', '100', 'Other specified', '4'], ['4', '2012', '02', 'Suicide', '0', 'M', '64', 'White', '100', 'Home', '4'], ['5', '2012', '02', 'Suicide', '0', 'M', '31', 'White', '100', 'Other specified', '2']]\n"
     ]
    }
   ],
   "source": [
    "headers = data[0]\n",
    "data = data[1:]\n",
    "print(headers)\n",
    "print(data[:5])"
   ]
  },
  {
   "cell_type": "code",
   "execution_count": 49,
   "metadata": {
    "collapsed": false
   },
   "outputs": [
    {
     "name": "stdout",
     "output_type": "stream",
     "text": [
      "{'2013': 33636, '2014': 33599, '2012': 33563}\n"
     ]
    }
   ],
   "source": [
    "years = [row[1] for row in data]\n",
    "year_counts = {}\n",
    "\n",
    "for year in years:\n",
    "    if year in year_counts:\n",
    "        year_counts[year] +=1\n",
    "    else:\n",
    "        year_counts[year] = 1\n",
    "        \n",
    "print(year_counts)"
   ]
  },
  {
   "cell_type": "code",
   "execution_count": 50,
   "metadata": {
    "collapsed": false
   },
   "outputs": [
    {
     "name": "stdout",
     "output_type": "stream",
     "text": [
      "[datetime.datetime(2012, 1, 1, 0, 0), datetime.datetime(2012, 1, 1, 0, 0), datetime.datetime(2012, 1, 1, 0, 0), datetime.datetime(2012, 2, 1, 0, 0), datetime.datetime(2012, 2, 1, 0, 0)]\n"
     ]
    }
   ],
   "source": [
    "dates = [datetime.datetime(year = int(row[1]), month = int(row[2]), day = 1) for row in data]\n",
    "print(dates[:5])"
   ]
  },
  {
   "cell_type": "code",
   "execution_count": 51,
   "metadata": {
    "collapsed": false
   },
   "outputs": [
    {
     "name": "stdout",
     "output_type": "stream",
     "text": [
      "{datetime.datetime(2012, 1, 1, 0, 0): 2758, datetime.datetime(2014, 6, 1, 0, 0): 2931, datetime.datetime(2014, 5, 1, 0, 0): 2864, datetime.datetime(2012, 6, 1, 0, 0): 2826, datetime.datetime(2013, 10, 1, 0, 0): 2808, datetime.datetime(2014, 7, 1, 0, 0): 2884, datetime.datetime(2014, 9, 1, 0, 0): 2914, datetime.datetime(2013, 12, 1, 0, 0): 2765, datetime.datetime(2012, 3, 1, 0, 0): 2743, datetime.datetime(2013, 2, 1, 0, 0): 2375, datetime.datetime(2012, 8, 1, 0, 0): 2954, datetime.datetime(2013, 4, 1, 0, 0): 2798, datetime.datetime(2013, 8, 1, 0, 0): 2859, datetime.datetime(2012, 7, 1, 0, 0): 3026, datetime.datetime(2012, 4, 1, 0, 0): 2795, datetime.datetime(2014, 2, 1, 0, 0): 2361, datetime.datetime(2014, 11, 1, 0, 0): 2756, datetime.datetime(2012, 5, 1, 0, 0): 2999, datetime.datetime(2013, 11, 1, 0, 0): 2758, datetime.datetime(2014, 1, 1, 0, 0): 2651, datetime.datetime(2013, 9, 1, 0, 0): 2742, datetime.datetime(2013, 1, 1, 0, 0): 2864, datetime.datetime(2013, 5, 1, 0, 0): 2806, datetime.datetime(2012, 10, 1, 0, 0): 2733, datetime.datetime(2013, 6, 1, 0, 0): 2920, datetime.datetime(2012, 12, 1, 0, 0): 2791, datetime.datetime(2014, 3, 1, 0, 0): 2684, datetime.datetime(2014, 8, 1, 0, 0): 2970, datetime.datetime(2012, 9, 1, 0, 0): 2852, datetime.datetime(2014, 4, 1, 0, 0): 2862, datetime.datetime(2014, 12, 1, 0, 0): 2857, datetime.datetime(2013, 7, 1, 0, 0): 3079, datetime.datetime(2012, 2, 1, 0, 0): 2357, datetime.datetime(2013, 3, 1, 0, 0): 2862, datetime.datetime(2012, 11, 1, 0, 0): 2729, datetime.datetime(2014, 10, 1, 0, 0): 2865}\n"
     ]
    }
   ],
   "source": [
    "date_counts = {}\n",
    "for date in dates:\n",
    "    if date in date_counts:\n",
    "        date_counts[date] +=1\n",
    "    else:\n",
    "        date_counts[date] = 1\n",
    "        \n",
    "print(date_counts)"
   ]
  },
  {
   "cell_type": "code",
   "execution_count": 52,
   "metadata": {
    "collapsed": false
   },
   "outputs": [
    {
     "name": "stdout",
     "output_type": "stream",
     "text": [
      "['', 'year', 'month', 'intent', 'police', 'sex', 'age', 'race', 'hispanic', 'place', 'education']\n",
      "{'M': 86349, 'F': 14449}\n"
     ]
    }
   ],
   "source": [
    "print(headers)\n",
    "gender = [row[5] for row in data]\n",
    "sex_counts = {}\n",
    "for sex in gender:\n",
    "    if sex in sex_counts:\n",
    "        sex_counts[sex] +=1\n",
    "    else:\n",
    "        sex_counts[sex] = 1\n",
    "print(sex_counts)\n",
    "    "
   ]
  },
  {
   "cell_type": "code",
   "execution_count": 53,
   "metadata": {
    "collapsed": false
   },
   "outputs": [
    {
     "name": "stdout",
     "output_type": "stream",
     "text": [
      "{'Asian/Pacific Islander': 1326, 'Hispanic': 9022, 'Black': 23296, 'Native American/Native Alaskan': 917, 'White': 66237}\n"
     ]
    }
   ],
   "source": [
    "races = [row[7] for row in data]\n",
    "race_counts = {}\n",
    "for race in races:\n",
    "    if race in race_counts:\n",
    "        race_counts[race] +=1\n",
    "    else:\n",
    "        race_counts[race] = 1\n",
    "print(race_counts)"
   ]
  },
  {
   "cell_type": "code",
   "execution_count": 54,
   "metadata": {
    "collapsed": false
   },
   "outputs": [
    {
     "name": "stdout",
     "output_type": "stream",
     "text": [
      "[['Id', 'Year', 'Id', 'Sex', 'Id', 'Hispanic Origin', 'Id', 'Id2', 'Geography', 'Total', 'Race Alone - White', 'Race Alone - Hispanic', 'Race Alone - Black or African American', 'Race Alone - American Indian and Alaska Native', 'Race Alone - Asian', 'Race Alone - Native Hawaiian and Other Pacific Islander', 'Two or More Races'], ['cen42010', 'April 1, 2010 Census', 'totsex', 'Both Sexes', 'tothisp', 'Total', '0100000US', '', 'United States', '308745538', '197318956', '44618105', '40250635', '3739506', '15159516', '674625', '6984195']]\n"
     ]
    },
    {
     "data": {
      "text/plain": [
       "[['Id',\n",
       "  'Year',\n",
       "  'Id',\n",
       "  'Sex',\n",
       "  'Id',\n",
       "  'Hispanic Origin',\n",
       "  'Id',\n",
       "  'Id2',\n",
       "  'Geography',\n",
       "  'Total',\n",
       "  'Race Alone - White',\n",
       "  'Race Alone - Hispanic',\n",
       "  'Race Alone - Black or African American',\n",
       "  'Race Alone - American Indian and Alaska Native',\n",
       "  'Race Alone - Asian',\n",
       "  'Race Alone - Native Hawaiian and Other Pacific Islander',\n",
       "  'Two or More Races'],\n",
       " ['cen42010',\n",
       "  'April 1, 2010 Census',\n",
       "  'totsex',\n",
       "  'Both Sexes',\n",
       "  'tothisp',\n",
       "  'Total',\n",
       "  '0100000US',\n",
       "  '',\n",
       "  'United States',\n",
       "  '308745538',\n",
       "  '197318956',\n",
       "  '44618105',\n",
       "  '40250635',\n",
       "  '3739506',\n",
       "  '15159516',\n",
       "  '674625',\n",
       "  '6984195']]"
      ]
     },
     "execution_count": 54,
     "metadata": {},
     "output_type": "execute_result"
    }
   ],
   "source": [
    "c = open(\"census.csv\", \"r\")\n",
    "census = list(csv.reader(c))\n",
    "print(census)\n",
    "census"
   ]
  },
  {
   "cell_type": "code",
   "execution_count": 55,
   "metadata": {
    "collapsed": false
   },
   "outputs": [
    {
     "name": "stdout",
     "output_type": "stream",
     "text": [
      "{'Asian/Pacific Islander': 3.530346230970155, 'Hispanic': 2.8552755975457322, 'Black': 43.7266441503959, 'Native American/Native Alaskan': 0.8099251104982568, 'White': 2.9626339085748987}\n"
     ]
    }
   ],
   "source": [
    "mappings = {\n",
    "    \"Asian/Pacific Islander\":(15159516+674625),\n",
    "    \"Black\": (44618105),\n",
    "    \"Native American/Native Alaskan\": 40250635,\n",
    "    \"Hispanic\": 197318956,\n",
    "    \"White\": 308745538\n",
    "}\n",
    "\n",
    "\n",
    "def gun_death_per_hundredk(list):\n",
    "    race_per_hundredk = {}\n",
    "    for race in list:\n",
    "        percentage = (list[race])/(mappings[race])\n",
    "        per_hundredk = percentage*100000\n",
    "        race_per_hundredk[race] = per_hundredk\n",
    "    return race_per_hundredk\n",
    "    \n",
    "print(race_per_hundredk)"
   ]
  },
  {
   "cell_type": "code",
   "execution_count": 56,
   "metadata": {
    "collapsed": true
   },
   "outputs": [],
   "source": [
    "intent = []\n",
    "for row in data:\n",
    "    intent.append(row[3])"
   ]
  },
  {
   "cell_type": "code",
   "execution_count": 57,
   "metadata": {
    "collapsed": false
   },
   "outputs": [
    {
     "name": "stdout",
     "output_type": "stream",
     "text": [
      "{'Asian/Pacific Islander': 559, 'Hispanic': 5634, 'Black': 19510, 'Native American/Native Alaskan': 326, 'White': 9147}\n",
      "{'Asian/Pacific Islander': 3.530346230970155, 'Hispanic': 2.8552755975457322, 'Black': 43.7266441503959, 'Native American/Native Alaskan': 0.8099251104982568, 'White': 2.9626339085748987}\n"
     ]
    }
   ],
   "source": [
    "race = []\n",
    "for row in data:\n",
    "    race.append(row[7])\n",
    "\n",
    "homicide_race_counts = {}\n",
    "\n",
    "for i, race in enumerate(races):\n",
    "    if intent[i] == \"Homicide\":\n",
    "        if race in homicide_race_counts:\n",
    "            homicide_race_counts[race] +=1\n",
    "        else:\n",
    "            homicide_race_counts[race] = 1\n",
    "    \n",
    "            \n",
    "print(homicide_race_counts)\n",
    "\n",
    "p = gun_death_per_hundredk(homicide_race_counts)\n",
    "print(p)"
   ]
  }
 ],
 "metadata": {
  "kernelspec": {
   "display_name": "Python 3",
   "language": "python",
   "name": "python3"
  },
  "language_info": {
   "codemirror_mode": {
    "name": "ipython",
    "version": 3
   },
   "file_extension": ".py",
   "mimetype": "text/x-python",
   "name": "python",
   "nbconvert_exporter": "python",
   "pygments_lexer": "ipython3",
   "version": "3.4.3"
  }
 },
 "nbformat": 4,
 "nbformat_minor": 0
}
